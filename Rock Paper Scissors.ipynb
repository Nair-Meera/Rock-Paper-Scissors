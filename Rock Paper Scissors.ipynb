{
 "cells": [
  {
   "cell_type": "code",
   "execution_count": null,
   "id": "b323fff9",
   "metadata": {},
   "outputs": [],
   "source": [
    "#Fuction for random selection from given option.\n",
    "#So computer can randomly choose one from given options.(Here the options are Rock, Paper, Scissors)\n",
    "\n",
    "import random"
   ]
  },
  {
   "cell_type": "code",
   "execution_count": null,
   "id": "062caf23",
   "metadata": {},
   "outputs": [],
   "source": [
    "#Store the options in a array named Game\n",
    "Game = [\"Rock\",\"Paper\",\"Scissors\"]\n",
    "\n",
    "#Variable named Computer take a option randomly from array Game using the function random\n",
    "Computer = random.choice(Game)\n",
    "\n",
    "#Variable Player give his/her choice using user input\n",
    "Player = input(\"Enter Players Choice \\nRock Or Paper or Scissors: \\t\")\n",
    "\n",
    "#Print the results\n",
    "print(\"\\n\\nComputer throws a: \",Computer,\"\\nPlayer throws a  : \",Player)"
   ]
  },
  {
   "cell_type": "code",
   "execution_count": null,
   "id": "ab8fabfc",
   "metadata": {},
   "outputs": [],
   "source": [
    "#So from the given results we get to know who wins and who lose\n",
    "#Appling more instruction\n",
    "#Lets the computer itself announce who is the winner\n",
    "#Introduce some Python Conditions and If statements\n",
    "\n",
    "#Codes will be repeating for easy understanding"
   ]
  },
  {
   "cell_type": "code",
   "execution_count": null,
   "id": "9e633e5a",
   "metadata": {},
   "outputs": [],
   "source": [
    "Game = [\"Rock\",\"Paper\",\"Scissors\"]\n",
    "Computer = random.choice(Game)\n",
    "Player = input(\"Enter Players Choice \\nRock Or Paper or Scissors: \\t\")\n",
    "print(\"\\n\\nComputer throws a: \",Computer,\"\\nPlayer throws a  : \",Player)\n",
    "\n",
    "#Two variables, Computer and Player, which are used as part of the if statement to test if both are equal then print Tie\n",
    "\n",
    "if (Computer == Player):\n",
    "    print(\"\\nTie\")\n",
    "    \n",
    "#If the above conditions were not true, then try elif condition\n",
    "#If Computer and Player throws different options then check both options and check the appropriate option\n",
    "\n",
    "#Below, Paper is dominant than Rock, so Player is the winner\n",
    "#If it was vice versa, the else condition catches the preceding conditions so Computer will become the winner\n",
    "#Write all conditions which can happen\n",
    "\n",
    "elif (Computer == \"Rock\"):\n",
    "    if (Player == \"Paper\"):\n",
    "        print(\"\\nPlayer Wins\")\n",
    "    else:\n",
    "        print(\"\\nComputer Wins\")\n",
    "\n",
    "elif (Computer == \"Paper\"):\n",
    "    if (Player == \"Scissors\"):\n",
    "        print(\"\\nPlayer Wins\")\n",
    "    else:\n",
    "        print(\"\\nComputer Wins\")\n",
    "        \n",
    "elif (Computer == \"Scissors\"):\n",
    "    if (Player == \"Rock\"):\n",
    "        print(\"\\nPlayer Wins\")\n",
    "    else:\n",
    "        print(\"\\nComputer Wins\")"
   ]
  },
  {
   "cell_type": "code",
   "execution_count": null,
   "id": "87fb458b",
   "metadata": {},
   "outputs": [],
   "source": [
    "#Lets make more intresting\n",
    "#The above code only let the player to enter the input once\n",
    "#Make it multiple times in a single code than reloading the above code many times\n",
    "#User could decide when to stop the game"
   ]
  },
  {
   "cell_type": "code",
   "execution_count": null,
   "id": "9820dcb7",
   "metadata": {},
   "outputs": [],
   "source": [
    "#With the while loop we can execute a set of statements as long as a condition is true\n",
    "#To stop use break statement, even if the while condition is true the loop will break "
   ]
  },
  {
   "cell_type": "code",
   "execution_count": null,
   "id": "aba868f0",
   "metadata": {},
   "outputs": [],
   "source": [
    "while (True):\n",
    "    \n",
    "    Game = [\"Rock\",\"Paper\",\"Scissors\"]\n",
    "    Computer = random.choice(Game)\n",
    "    \n",
    "    print(\"\\n Type \\\"Exit\\\" to quit the game\")\n",
    "    Player = input(\"\\nEnter Players Choice \\nRock Or Paper or Scissors: \\t\")\n",
    "    print(\"\\n\\nPlayer throws a  : \",Player,\"\\nComputer throws a: \",Computer)\n",
    "\n",
    "    if (Player == \"Exit\"):\n",
    "        break\n",
    "        \n",
    "    if (Computer == Player):\n",
    "        print(\"\\nTie\")\n",
    "\n",
    "    elif (Computer == \"Rock\"):\n",
    "        if (Player == \"Paper\"):\n",
    "            print(\"\\nPlayer Wins\")\n",
    "        else:\n",
    "            print(\"\\nComputer Wins\")\n",
    "\n",
    "    elif (Computer == \"Paper\"):\n",
    "        if (Player == \"Scissors\"):\n",
    "            print(\"\\nPlayer Wins\")\n",
    "        else:\n",
    "            print(\"\\nComputer Wins\")\n",
    "\n",
    "    elif (Computer == \"Scissors\"):\n",
    "        if (Player == \"Rock\"):\n",
    "            print(\"\\nPlayer Wins\")\n",
    "        else:\n",
    "            print(\"\\nComputer Wins\")"
   ]
  },
  {
   "cell_type": "code",
   "execution_count": null,
   "id": "b4aeafde",
   "metadata": {},
   "outputs": [],
   "source": [
    "#Now we need to find the real winner we should count the score"
   ]
  },
  {
   "cell_type": "code",
   "execution_count": null,
   "id": "6aafda80",
   "metadata": {
    "scrolled": true
   },
   "outputs": [],
   "source": [
    "#Store values in two variables(one for player and other for computer)\n",
    "Computer_Score = 0\n",
    "Player_Score = 0\n",
    "\n",
    "while (True):\n",
    "    Game = [\"Rock\",\"Paper\",\"Scissors\"]\n",
    "    Computer = random.choice(Game)\n",
    "    print(\"\\n Type \\\"Exit\\\" to quit the game\")\n",
    "    Player = input(\"\\nEnter Players Choice \\nRock Or Paper or Scissors: \\t\")\n",
    "    \n",
    "        #The %s operator lets you add a value into a Python string\n",
    "    if (Player == \"Exit\"):\n",
    "        print(\"\\n\\nComputer Scored :%s \\nPlayer Scored :%s\"%(Computer_Score,Player_Score))\n",
    "        break\n",
    "    print(\"\\n\\nComputer throws a: \",Computer,\"\\nPlayer throws a  : \",Player)\n",
    "    \n",
    "    \n",
    "\n",
    "        \n",
    "    if (Computer == Player):\n",
    "        print(\"\\n\\tTie\")\n",
    "\n",
    "#Add +1 from the winner variable with the stored value     \n",
    "        \n",
    "    elif (Computer == \"Rock\"):\n",
    "        if (Player == \"Paper\"):\n",
    "            print(\"\\n\\tPlayer Wins\")\n",
    "            Player_Score += 1\n",
    "        else:\n",
    "            print(\"Computer Wins\")\n",
    "            Computer_Score += 1\n",
    "\n",
    "    elif (Computer == \"Paper\"):\n",
    "        if (Player == \"Scissors\"):\n",
    "            print(\"\\n\\tPlayer Wins\")\n",
    "            Player_Score += 1\n",
    "        else:\n",
    "            print(\"\\n\\tComputer Wins\")\n",
    "            Computer_Score += 1\n",
    "\n",
    "    elif (Computer == \"Scissors\"):\n",
    "        if (Player == \"Rock\"):\n",
    "            print(\"\\n\\tPlayer Wins\")\n",
    "            Player_Score += 1\n",
    "        else:\n",
    "            print(\"\\n\\tComputer Wins\")\n",
    "            Computer_Score += 1\n",
    "\n"
   ]
  },
  {
   "cell_type": "code",
   "execution_count": null,
   "id": "950f91c6",
   "metadata": {},
   "outputs": [],
   "source": []
  },
  {
   "cell_type": "code",
   "execution_count": null,
   "id": "8c4cf3d7",
   "metadata": {},
   "outputs": [],
   "source": []
  }
 ],
 "metadata": {
  "kernelspec": {
   "display_name": "Python 3",
   "language": "python",
   "name": "python3"
  },
  "language_info": {
   "codemirror_mode": {
    "name": "ipython",
    "version": 3
   },
   "file_extension": ".py",
   "mimetype": "text/x-python",
   "name": "python",
   "nbconvert_exporter": "python",
   "pygments_lexer": "ipython3",
   "version": "3.8.8"
  }
 },
 "nbformat": 4,
 "nbformat_minor": 5
}
