{
 "cells": [
  {
   "cell_type": "code",
   "execution_count": 1,
   "id": "cf3d1132",
   "metadata": {},
   "outputs": [],
   "source": [
    "import random\n",
    "#fuction for random slection from given option"
   ]
  },
  {
   "cell_type": "code",
   "execution_count": 2,
   "id": "727d2b53",
   "metadata": {},
   "outputs": [
    {
     "name": "stdout",
     "output_type": "stream",
     "text": [
      "Enter Your Choice \trock\n",
      "Computer:  Scissors \n",
      "User:      rock\n"
     ]
    }
   ],
   "source": [
    "Game = [\"Rock\",\"Paper\",\"Scissors\"]\n",
    "Comp = random.choice(Game)\n",
    "My = input(\"Enter Your Choice \\t\")\n",
    "print(\"Computer: \",Comp,\"\\nUser:     \",My)"
   ]
  },
  {
   "cell_type": "code",
   "execution_count": 3,
   "id": "d9477447",
   "metadata": {},
   "outputs": [
    {
     "name": "stdout",
     "output_type": "stream",
     "text": [
      "Enter Your Choice \trock\n",
      "Computer:  Paper \n",
      "User:      rock\n",
      "Computer Wins\n"
     ]
    }
   ],
   "source": [
    "Game = [\"Rock\",\"Paper\",\"Scissors\"]\n",
    "Comp = random.choice(Game)\n",
    "My = input(\"Enter Your Choice \\t\")\n",
    "print(\"Computer: \",Comp,\"\\nUser:     \",My)\n",
    "if (Comp == My):\n",
    "    print(\"Tie\")\n",
    "\n",
    "elif (Comp == \"Rock\"):\n",
    "    if (My == \"Paper\"):\n",
    "        print(\"User Wins\")\n",
    "    else:\n",
    "        print(\"Computer Wins\")\n",
    "\n",
    "elif (Comp == \"Paper\"):\n",
    "    if (My == \"Scissors\"):\n",
    "        print(\"User Wins\")\n",
    "    else:\n",
    "        print(\"Computer Wins\")\n",
    "        \n",
    "elif (Comp == \"Scissors\"):\n",
    "    if (My == \"Rock\"):\n",
    "        print(\"User Wins\")\n",
    "    else:\n",
    "        print(\"Computer Wins\")\n",
    "        \n"
   ]
  },
  {
   "cell_type": "code",
   "execution_count": 4,
   "id": "7c808780",
   "metadata": {},
   "outputs": [
    {
     "name": "stdout",
     "output_type": "stream",
     "text": [
      "Enter Your Choice \tRock\n",
      "Computer:  Paper \n",
      "User:      Rock\n",
      "Computer Wins\n",
      "Enter Your Choice \tRock\n",
      "Computer:  Rock \n",
      "User:      Rock\n",
      "Tie\n",
      "Enter Your Choice \tPaper\n",
      "Computer:  Rock \n",
      "User:      Paper\n",
      "User Wins\n",
      "Enter Your Choice \tExit\n",
      "Computer:  Rock \n",
      "User:      Exit\n"
     ]
    }
   ],
   "source": [
    "while (True):\n",
    "    Game = [\"Rock\",\"Paper\",\"Scissors\"]\n",
    "    Comp = random.choice(Game)\n",
    "    My = input(\"Enter Your Choice \\t\")\n",
    "    print(\"Computer: \",Comp,\"\\nUser:     \",My)\n",
    "    \n",
    "    if (My == \"Exit\"):\n",
    "        break\n",
    "        \n",
    "    if (Comp == My):\n",
    "        print(\"Tie\")\n",
    "\n",
    "    elif (Comp == \"Rock\"):\n",
    "        if (My == \"Paper\"):\n",
    "            print(\"User Wins\")\n",
    "        else:\n",
    "            print(\"Computer Wins\")\n",
    "\n",
    "    elif (Comp == \"Paper\"):\n",
    "        if (My == \"Scissors\"):\n",
    "            print(\"User Wins\")\n",
    "        else:\n",
    "            print(\"Computer Wins\")\n",
    "\n",
    "    elif (Comp == \"Scissors\"):\n",
    "        if (My == \"Rock\"):\n",
    "            print(\"User Wins\")\n",
    "        else:\n",
    "            print(\"Computer Wins\")\n",
    "\n"
   ]
  },
  {
   "cell_type": "code",
   "execution_count": 5,
   "id": "48c1adf4",
   "metadata": {},
   "outputs": [
    {
     "name": "stdout",
     "output_type": "stream",
     "text": [
      "Enter Your Choice \tPaper\n",
      "User:       Paper \n",
      "Computer: Paper\n",
      "Tie\n",
      "Enter Your Choice \tRock\n",
      "User:       Rock \n",
      "Computer: Paper\n",
      "Computer Wins\n",
      "Enter Your Choice \tExit\n",
      "User:       Exit \n",
      "Computer: Scissors\n"
     ]
    }
   ],
   "source": [
    "while (True):\n",
    "    Game = [\"Rock\",\"Paper\",\"Scissors\"]\n",
    "    Comp = random.choice(Game)\n",
    "    My = input(\"Enter Your Choice \\t\")\n",
    "    print(\"User:      \",My,\"\\nComputer:\",Comp)\n",
    "    \n",
    "    if (My == \"Exit\"):\n",
    "        break\n",
    "        \n",
    "    if (Comp == My):\n",
    "        print(\"Tie\")\n",
    "\n",
    "    elif (Comp == \"Rock\"):\n",
    "        if (My == \"Paper\"):\n",
    "            print(\"User Wins\")\n",
    "        else:\n",
    "            print(\"Computer Wins\")\n",
    "\n",
    "    elif (Comp == \"Paper\"):\n",
    "        if (My == \"Scissors\"):\n",
    "            print(\"User Wins\")\n",
    "        else:\n",
    "            print(\"Computer Wins\")\n",
    "\n",
    "    elif (Comp == \"Scissors\"):\n",
    "        if (My == \"Rock\"):\n",
    "            print(\"User Wins\")\n",
    "        else:\n",
    "            print(\"Computer Wins\")\n",
    "\n"
   ]
  },
  {
   "cell_type": "code",
   "execution_count": 6,
   "id": "ddc89f18",
   "metadata": {},
   "outputs": [],
   "source": [
    "Comp_S = 0\n",
    "My_S = 0"
   ]
  },
  {
   "cell_type": "code",
   "execution_count": 11,
   "id": "1aa0839e",
   "metadata": {},
   "outputs": [
    {
     "name": "stdout",
     "output_type": "stream",
     "text": [
      "Enter Your Choice \tRock\n",
      "User:       Rock \n",
      "Computer: Rock\n",
      "Tie\n",
      "Enter Your Choice \tPaper\n",
      "User:       Paper \n",
      "Computer: Paper\n",
      "Tie\n",
      "Enter Your Choice \tPaper\n",
      "User:       Paper \n",
      "Computer: Scissors\n",
      "Computer Wins\n",
      "Enter Your Choice \tPapaer\n",
      "User:       Papaer \n",
      "Computer: Rock\n",
      "Computer Wins\n",
      "Enter Your Choice \tScissors\n",
      "User:       Scissors \n",
      "Computer: Paper\n",
      "User Wins\n",
      "Enter Your Choice \tRock\n",
      "User:       Rock \n",
      "Computer: Paper\n",
      "Computer Wins\n",
      "Enter Your Choice \tExit\n",
      "User:       Exit \n",
      "Computer: Rock\n",
      "Computer :3 User :1\n"
     ]
    }
   ],
   "source": [
    "while (True):\n",
    "    Game = [\"Rock\",\"Paper\",\"Scissors\"]\n",
    "    Comp = random.choice(Game)\n",
    "    My = input(\"Enter Your Choice \\t\")\n",
    "    print(\"User:      \",My,\"\\nComputer:\",Comp)\n",
    "    \n",
    "    if (My == \"Exit\"):\n",
    "        print(\"Computer :%s User :%s\"%(Comp_S,My_S))\n",
    "        break\n",
    "        \n",
    "    if (Comp == My):\n",
    "        print(\"Tie\")\n",
    "\n",
    "    elif (Comp == \"Rock\"):\n",
    "        if (My == \"Paper\"):\n",
    "            print(\"User Wins\")\n",
    "            My_S += 1\n",
    "        else:\n",
    "            print(\"Computer Wins\")\n",
    "            Comp_S += 1\n",
    "\n",
    "    elif (Comp == \"Paper\"):\n",
    "        if (My == \"Scissors\"):\n",
    "            print(\"User Wins\")\n",
    "            My_S += 1\n",
    "        else:\n",
    "            print(\"Computer Wins\")\n",
    "            Comp_S += 1\n",
    "\n",
    "    elif (Comp == \"Scissors\"):\n",
    "        if (My == \"Rock\"):\n",
    "            print(\"User Wins\")\n",
    "            My_S += 1\n",
    "        else:\n",
    "            print(\"Computer Wins\")\n",
    "            Comp_S += 1\n",
    "\n"
   ]
  },
  {
   "cell_type": "code",
   "execution_count": null,
   "id": "a50634a7",
   "metadata": {},
   "outputs": [],
   "source": []
  }
 ],
 "metadata": {
  "kernelspec": {
   "display_name": "Python 3",
   "language": "python",
   "name": "python3"
  },
  "language_info": {
   "codemirror_mode": {
    "name": "ipython",
    "version": 3
   },
   "file_extension": ".py",
   "mimetype": "text/x-python",
   "name": "python",
   "nbconvert_exporter": "python",
   "pygments_lexer": "ipython3",
   "version": "3.8.8"
  }
 },
 "nbformat": 4,
 "nbformat_minor": 5
}
